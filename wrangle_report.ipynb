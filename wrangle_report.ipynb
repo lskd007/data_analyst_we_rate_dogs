{
 "cells": [
  {
   "cell_type": "markdown",
   "metadata": {},
   "source": [
    "# Wrangle Report"
   ]
  },
  {
   "cell_type": "markdown",
   "metadata": {},
   "source": [
    "Dataset of this project is the tweet archive of Twitter user WeRateDogs. This account rates people dogs."
   ]
  },
  {
   "cell_type": "markdown",
   "metadata": {},
   "source": [
    "## Project goals:\n",
    "* Wrangling twitter data through following processes:\n",
    "    * Gathering Data\n",
    "    * Assessing Data\n",
    "    * Cleaning Data\n",
    "* Storing Data\n",
    "* Analyzing and Visualizing wrangled data\n",
    "* Report\n",
    "    * Report on data wrangling\n",
    "    * Report on data analyse and visualization"
   ]
  },
  {
   "cell_type": "markdown",
   "metadata": {},
   "source": [
    "## Gathering Data"
   ]
  },
  {
   "cell_type": "markdown",
   "metadata": {},
   "source": [
    "My dataset are from below sources:\n",
    "* The WeRateDogs Twitter archive ( twitter-archive-enhanced.csv). This file was provided from Udacity. this archive data contains basic information like tweet ID, timestamp, text , image url, rating etc. The data was updated up to August 1st 2017.\n",
    "\n",
    "* The tweet image predictions (predict what type of dog). This is an output from neural network program. This file was provided by Udacity.\n",
    "\n",
    "* tweet-json.txt. this is a json file.this file included retweet count and favourite count and some other useful data. We can gather this file by using Tweeter API and Python's Tweepy library. But I have some trouble to get tweeter account. So I decide to get this file directly from Udacity.\n"
   ]
  },
  {
   "cell_type": "markdown",
   "metadata": {},
   "source": [
    "## Assesing Data"
   ]
  },
  {
   "cell_type": "markdown",
   "metadata": {},
   "source": [
    "After gatherd above datasets. I started to assess the data. \n",
    "I splited data issues to 2 type, quality and tidines."
   ]
  },
  {
   "cell_type": "markdown",
   "metadata": {},
   "source": [
    "### Quality Issue:"
   ]
  },
  {
   "cell_type": "markdown",
   "metadata": {},
   "source": [
    " #### twitter-archive-enhanced.csv"
   ]
  },
  {
   "cell_type": "markdown",
   "metadata": {},
   "source": [
    " * Completeness:\n",
    "     * Missing data in some columns: \n",
    "         * in_reply_to_status_id         \n",
    "         * in_reply_to_user_id       \n",
    " * Validity:\n",
    "     * Some dog name is not real (ex: None, a, an, the...)\n",
    "     * value in rating_numerator and rating_denominator columns are a date or zero (ex: 9/11, 24/7 ...)\n",
    "     \n",
    " * Accuracy:\n",
    "     * timestamp is an object. It should be datetime.\n",
    " * Consistency:\n",
    "     * there are some HTML tags in the source column.\n",
    "     * rating_denominator value is not fix (expect: 10). there are some difference values.  \n"
   ]
  },
  {
   "cell_type": "markdown",
   "metadata": {},
   "source": [
    " #### image-predictions.tsv"
   ]
  },
  {
   "cell_type": "markdown",
   "metadata": {},
   "source": [
    " * Completeness:\n",
    " * Validity:\n",
    "     * p1,p2,p3 have some dog breed such as \"desktop computer\".\n",
    " * Consistency:\n",
    "     * p1,p2,p3: dog breed with lower case , but sometime uppercase. \n",
    "     * p1,p2,p3: under bar and hyphen was use without rule.\n"
   ]
  },
  {
   "cell_type": "markdown",
   "metadata": {},
   "source": [
    "#### tweet-json.txt"
   ]
  },
  {
   "cell_type": "markdown",
   "metadata": {},
   "source": [
    " * Completeness:\n",
    "     * some columns have missing data.\n",
    " * Consistency:\n",
    "     * expanded_urls have some duplicated url.\n"
   ]
  },
  {
   "cell_type": "markdown",
   "metadata": {},
   "source": [
    "### Tidiness Issue:"
   ]
  },
  {
   "cell_type": "markdown",
   "metadata": {},
   "source": [
    " #### twitter-archive-enhanced.csv\n",
    " * 'doggo','floofer','pupper','puppo' columns are relate to the same variable. So it should be merge into 1 column."
   ]
  },
  {
   "cell_type": "markdown",
   "metadata": {},
   "source": [
    " #### image-predictions.tsv\n",
    " * same observational unit with other files. because they are basic information about dog rating."
   ]
  },
  {
   "cell_type": "markdown",
   "metadata": {},
   "source": [
    "#### tweet-json.txt\n",
    "* same observational unit with other files. because they are basic information about dog rating."
   ]
  },
  {
   "cell_type": "markdown",
   "metadata": {},
   "source": [
    "## Cleaning Data"
   ]
  },
  {
   "cell_type": "markdown",
   "metadata": {},
   "source": [
    "This is the process for fixing issues that identified.\n",
    "First, copy/backup the dataset.\n",
    "Second, use \"Define, Code, Test\" framework to write down in human language what we will do , then use python code to fix the issue and test if the issue was fixed.\n"
   ]
  },
  {
   "cell_type": "markdown",
   "metadata": {},
   "source": [
    "### Cleaning below quality issues:\n",
    "1. Re-tweet data are in the dataset. they should be removed.\n",
    "\n",
    "2. Data type of some columns is not good(ex:tweet_id, rating_denominator, rating_numerator, timestamp...)\n",
    "\n",
    "3. There are some columns not helpful for analyis. It should be dropped.(ex: 'in_reply_to_status_id','in_reply_to_user_id','retweeted_status_id','retweeted_status_user_id','retweeted_status_timestamp')\n",
    "\n",
    "4. Missing data in name column. there are some name such as 'a', 'an' ,'the' is not real.  \n",
    "\n",
    "5. More than one dog type in some records (example: doggo and floofer)\n",
    "\n",
    "6. There are wrong value in rating_numerator and rating_denominator columns.(ex: 9/11 is datetime) \n",
    "\n",
    "7. Source column format is HTML format (ex: <a href=\"...\"). It should be normal and clean string.\n",
    "\n",
    "8. expanded_urls column have some duplicate url.\n",
    "\n"
   ]
  },
  {
   "cell_type": "markdown",
   "metadata": {},
   "source": [
    "### Cleaning below tidiness issues:\n",
    "1. 'doggo','floofer','pupper','puppo' should be merge into one column with name dog_type.\n",
    "\n",
    "2. Columns in Tweet Json Dataset should be merge into Archive Dataset, because they are an observational unit. "
   ]
  },
  {
   "cell_type": "markdown",
   "metadata": {},
   "source": [
    "## Storing data"
   ]
  },
  {
   "cell_type": "markdown",
   "metadata": {},
   "source": [
    "After cleaning all defined issues.\n",
    "I save cleaned dataset to **twitter_archive_master.csv** file"
   ]
  },
  {
   "cell_type": "markdown",
   "metadata": {},
   "source": [
    "## Analyzing and Visualizing Data"
   ]
  },
  {
   "cell_type": "markdown",
   "metadata": {},
   "source": [
    "I produced **four insights and one visualization.**\n",
    "Insights and Visualization are provideed in **act_report.html**"
   ]
  }
 ],
 "metadata": {
  "kernelspec": {
   "display_name": "Python 3",
   "language": "python",
   "name": "python3"
  },
  "language_info": {
   "codemirror_mode": {
    "name": "ipython",
    "version": 3
   },
   "file_extension": ".py",
   "mimetype": "text/x-python",
   "name": "python",
   "nbconvert_exporter": "python",
   "pygments_lexer": "ipython3",
   "version": "3.6.3"
  }
 },
 "nbformat": 4,
 "nbformat_minor": 2
}
